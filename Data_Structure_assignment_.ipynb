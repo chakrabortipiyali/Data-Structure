{
  "nbformat": 4,
  "nbformat_minor": 0,
  "metadata": {
    "colab": {
      "provenance": []
    },
    "kernelspec": {
      "name": "python3",
      "display_name": "Python 3"
    },
    "language_info": {
      "name": "python"
    }
  },
  "cells": [
    {
      "cell_type": "code",
      "execution_count": null,
      "metadata": {
        "id": "rgfjf7emmKJt"
      },
      "outputs": [],
      "source": [
        "#1. Write a code to create a string with your name and print it\n",
        "my_name = \"Piyali Chakraborti\"\n",
        "print(\"My name is\",my_name)"
      ]
    },
    {
      "cell_type": "code",
      "source": [
        "#2. Write a code to find the length of the string \"Hello World\"\n",
        "word = \"Hello World\"\n",
        "length = len(word)\n",
        "print(\"The length of Hello World is\" , length)"
      ],
      "metadata": {
        "id": "VUbF7DM4nxzy"
      },
      "execution_count": null,
      "outputs": []
    },
    {
      "cell_type": "code",
      "source": [
        "#3. Write a code to slice the first 3 characters from the string \"Python Programming\"\n",
        "str = \"Python Programming\"\n",
        "first_char = str[ 0 : 3]\n",
        "print(\"The first 3 characters of the string is\",first_char)"
      ],
      "metadata": {
        "id": "5XgZccrooL6S"
      },
      "execution_count": null,
      "outputs": []
    },
    {
      "cell_type": "code",
      "source": [
        "#4. Write a code to convert the string \"hello\" to uppercase\n",
        "str1 = \"hello\"\n",
        "str_upper = str1.upper()\n",
        "print(\"hello in upper case is \" , str_upper)"
      ],
      "metadata": {
        "id": "pNd8WJJqqFiM"
      },
      "execution_count": null,
      "outputs": []
    },
    {
      "cell_type": "code",
      "source": [
        "#5. Write a code to replace the word \"apple\" with \"orange\" in the string \"I like apple\"\n",
        "str2 = \"I like apple\"\n",
        "new_str = str2.replace(\"apple\" , \"orange\")\n",
        "print(\"The new string is\",new_str)"
      ],
      "metadata": {
        "id": "yL1HHRGvqvJT"
      },
      "execution_count": null,
      "outputs": []
    },
    {
      "cell_type": "code",
      "source": [
        "#6. Write a code to create a list with numbers 1 to 5 and print it.\n",
        "list = [1 , 2 , 3 , 4 , 5]\n",
        "print(list)"
      ],
      "metadata": {
        "id": "VaV1phsHrzJF"
      },
      "execution_count": null,
      "outputs": []
    },
    {
      "cell_type": "code",
      "source": [
        "#7. Write a code to append the number 10 to the list [1, 2, 3, 4]\n",
        "list1 = [1, 2, 3, 4]\n",
        "list1.append(10)\n",
        "print(\"Updated list is\",list1)\n"
      ],
      "metadata": {
        "id": "35UhbpgmsceP"
      },
      "execution_count": null,
      "outputs": []
    },
    {
      "cell_type": "code",
      "source": [
        "#8. Write a code to remove the number 3 from the list [1, 2, 3, 4, 5]\n",
        "list1 = [1, 2, 3, 4, 5]\n",
        "list1.remove(3)\n",
        "print(\"Updated list is\",list1)"
      ],
      "metadata": {
        "id": "E_sNGG-6yhUa"
      },
      "execution_count": null,
      "outputs": []
    },
    {
      "cell_type": "code",
      "source": [
        "#9. Write a code to access the second element in the list ['a', 'b', 'c', 'd']\n",
        "list2 = ['a', 'b', 'c', 'd']\n",
        "print(\"The second element of the list is\",list2[2])"
      ],
      "metadata": {
        "id": "bUUvFsarzO2M"
      },
      "execution_count": null,
      "outputs": []
    },
    {
      "cell_type": "markdown",
      "source": [],
      "metadata": {
        "id": "dGNlu_XxOXqM"
      }
    },
    {
      "cell_type": "code",
      "source": [
        "#10. Write a code to reverse the list [10, 20, 30, 40, 50].\n",
        "list = [10 , 20 , 30 , 40 , 50 ]\n",
        "rev_order = list[::-1]\n",
        "print(\"Numbers in reveresed order\",\"\",rev_order)"
      ],
      "metadata": {
        "id": "kEXlYo-Hz9I2"
      },
      "execution_count": null,
      "outputs": []
    },
    {
      "cell_type": "code",
      "source": [
        "#11. Write a code to create a tuple with the elements 10, 20, 30 and print it.\n",
        "tuple = (10 , 20 , 30)\n",
        "print(tuple)"
      ],
      "metadata": {
        "id": "giD_Fp1s0cT0"
      },
      "execution_count": null,
      "outputs": []
    },
    {
      "cell_type": "code",
      "source": [
        "#12. Write a code to access the first element of the tuple ('apple', 'banana', 'cherry').\n",
        "tuple = ('apple' ,'banana', 'cherry')\n",
        "print(\"First element of the tuple is\" , tuple[0])"
      ],
      "metadata": {
        "id": "25G_4qti0vqb"
      },
      "execution_count": null,
      "outputs": []
    },
    {
      "cell_type": "code",
      "source": [
        "#13.  Write a code to count how many times the number 2 appears in the tuple (1, 2, 3, 2, 4, 2).\n",
        "tuple1 = (1 , 2, 3, 2 , 4, 2)\n",
        "print(\"2 appears\",tuple1.count(2),\"times\")"
      ],
      "metadata": {
        "id": "UJTY5g2N1KTz"
      },
      "execution_count": null,
      "outputs": []
    },
    {
      "cell_type": "code",
      "source": [
        "#14.  Write a code to find the index of the element \"cat\" in the tuple ('dog', 'cat', 'rabbit').\n",
        "tuple_animal = ('dog', 'cat', 'rabbit')\n",
        "print(\"The index of the element 'cat' is\",tuple_animal.index('cat'))"
      ],
      "metadata": {
        "id": "-9H9bGSI141e"
      },
      "execution_count": null,
      "outputs": []
    },
    {
      "cell_type": "code",
      "source": [
        "#15. Write a code to check if the element \"banana\" is in the tuple ('apple', 'orange', 'banana').\n",
        "tuple_fruit = ('apple', 'orange', 'banana')\n",
        "fruit_check = \"banana\"\n",
        "if fruit_check in tuple_fruit :\n",
        "  print(fruit_check, \"is in the list\")\n",
        "else:\n",
        "  print(fruit_check,\"is not in the list\")\n"
      ],
      "metadata": {
        "id": "hsa7blAi2o7C"
      },
      "execution_count": null,
      "outputs": []
    },
    {
      "cell_type": "code",
      "source": [
        "#16.  Write a code to create a set with the elements 1, 2, 3, 4, 5 and print it\n",
        "set_number = {1 , 2, 3, 4, 5}\n",
        "print(set_number)"
      ],
      "metadata": {
        "id": "bzE0HVGi3RX0"
      },
      "execution_count": null,
      "outputs": []
    },
    {
      "cell_type": "code",
      "source": [
        "#17. Write a code to add the element 6 to the set {1, 2, 3, 4}.\n",
        "set_number = {1, 2 , 3, 4,}\n",
        "set_number.add(6)\n",
        "print(set_number)\n"
      ],
      "metadata": {
        "id": "GB7FDB3o3ypd"
      },
      "execution_count": null,
      "outputs": []
    },
    {
      "cell_type": "code",
      "source": [
        "#18.  Write a code to create a tuple with the elements 10, 20, 30 and print it\n",
        "tuple = (10 , 20 , 30)\n",
        "print(tuple)"
      ],
      "metadata": {
        "id": "1rvFx56D4ZSn"
      },
      "execution_count": null,
      "outputs": []
    },
    {
      "cell_type": "code",
      "source": [
        "#19. Write a code to access the first element of the tuple ('apple', 'banana', 'cherry').\n",
        "tuple = ('apple','banana', 'cherry')\n",
        "print(\"The first element of the tuple is\",tuple[0])"
      ],
      "metadata": {
        "id": "eMCXSqTG4n3u"
      },
      "execution_count": null,
      "outputs": []
    },
    {
      "cell_type": "code",
      "source": [
        "#20. Write a code to count how many times the number 2 appears in the tuple (1, 2, 3, 2, 4, 2).\n",
        "tuple1 = (1 , 2, 3, 2 , 4, 2)\n",
        "print(\"2 appears\",tuple1.count(2),\"times\")"
      ],
      "metadata": {
        "id": "D3KR3sws416D"
      },
      "execution_count": null,
      "outputs": []
    },
    {
      "cell_type": "code",
      "source": [
        "#21. Write a code to find the index of the element \"cat\" in the tuple ('dog', 'cat', 'rabbit').\n",
        "tuple_animal = ('dog', 'cat', 'rabbit')\n",
        "print(\"The index of the element 'cat' is\",tuple_animal.index('cat'))"
      ],
      "metadata": {
        "id": "XZSV5OCY5DdY"
      },
      "execution_count": null,
      "outputs": []
    },
    {
      "cell_type": "code",
      "source": [
        "#22. Write a code to check if the element \"banana\" is in the tuple ('apple', 'orange', 'banana').\n",
        "tuple_fruit = ('apple', 'orange', 'banana')\n",
        "fruit_check = \"banana\"\n",
        "if fruit_check in tuple_fruit :\n",
        "  print(fruit_check, \"is in the list\")\n",
        "else:\n",
        "  print(fruit_check,\"is not in the list\")\n",
        "\n"
      ],
      "metadata": {
        "id": "5U60EO-y5TOu"
      },
      "execution_count": null,
      "outputs": []
    },
    {
      "cell_type": "code",
      "source": [
        "#23. Write a code to create a set with the elements 1, 2, 3, 4, 5 and print it.\n",
        "set_number = {1 , 2, 3, 4, 5}\n",
        "print(set_number)"
      ],
      "metadata": {
        "id": "SY10LCrC5i2k"
      },
      "execution_count": null,
      "outputs": []
    },
    {
      "cell_type": "code",
      "source": [
        "#24.  Write a code to add the element 6 to the set {1, 2, 3, 4}.\n",
        "set_number = {1, 2 , 3, 4,}\n",
        "set_number.add(6)\n",
        "print(set_number)"
      ],
      "metadata": {
        "id": "dZXcg5M-5tJq"
      },
      "execution_count": null,
      "outputs": []
    },
    {
      "cell_type": "markdown",
      "source": [
        "#1. What are data structures, and why are they important?\n",
        "   Data Structures are specialized format used to store and organise data efficiently.\n",
        "   They provide us various ways to store, access and manipulate data according to specific need.\n"
      ],
      "metadata": {
        "id": "k-DE6kZ5Z50b"
      }
    },
    {
      "cell_type": "markdown",
      "source": [
        "#2. Explain the difference between mutable and immutable data types with examples\n",
        "The type of data which can be edited after creating once is called mutable data .For example List is a type of data , elements of which can be edited after creating once.\n",
        "The type of data which can not be edited after creating once is called immutable data. For example Tuple is a type of data , elememts of which can not be edited.\n"
      ],
      "metadata": {
        "id": "giO9vOoLbhKA"
      }
    },
    {
      "cell_type": "markdown",
      "source": [
        "#3. What are the main differences between lists and tuples in Python?\n",
        "   lists are mutable i.e the elements of the list can be edited after creating once.For example we  create grocery list , invitee list or make list before going for a vacation. We always can edit this by adding , removing the elements.\n",
        "   Tuples are immutable as the elements can not be edited after creating once as we use tuples for the situations where elements should not be edited like aadhar card no , PAN no of a specific person."
      ],
      "metadata": {
        "id": "F0tc_mkVdJQ1"
      }
    },
    {
      "cell_type": "markdown",
      "source": [],
      "metadata": {
        "id": "x9hGnCkRbZaz"
      }
    },
    {
      "cell_type": "code",
      "source": [],
      "metadata": {
        "id": "sviqyxuA51g7"
      },
      "execution_count": null,
      "outputs": []
    },
    {
      "cell_type": "markdown",
      "source": [
        "#4.Describe how dictionaries store data?\n",
        "Disctionaries store data in key-value pair . They are unordered collections. Keys are unique and immutable , values can be of any data type. Aginst every key there is a value which can be edited.Values can be accessed using keys.For example restaurant menu can be created with the help of distionary data type.Here food items will bbe the different keys.Against every food item key there will be values which can be edited time to time."
      ],
      "metadata": {
        "id": "d8LRTmedEuwX"
      }
    },
    {
      "cell_type": "markdown",
      "source": [],
      "metadata": {
        "id": "xWKo6l2vEszl"
      }
    },
    {
      "cell_type": "markdown",
      "source": [
        "#5. Why might you use a set instead of a list in Python?\n",
        "We must use set instead of list if duplicate elememt is to be avoided.Set does not allow duplicate elements but list does.sets work with unique element where as in list element can appear more than once.\n"
      ],
      "metadata": {
        "id": "oBiEqtgaEgs8"
      }
    },
    {
      "cell_type": "markdown",
      "source": [
        "#6.  What is a string in Python, and how is it different from a list?\n",
        "String is a sequence of characters .We can use string to represesnt and manipulate textual data where as List is ordered collection of items of heterogenous data type such as integers , floats , complex numbers , strings etc.\n"
      ],
      "metadata": {
        "id": "qBzViYMbI8hZ"
      }
    },
    {
      "cell_type": "markdown",
      "source": [
        "#7. How do tuples ensure data integrity in Python?\n",
        "Tuples are immutable i.e elements of the tuple can not be edited after creating once. tuples are used in cases where datas to be kept same for ever like aadhar card no ,voter card no, PAN card no of a specific person.Thus tuples ensure data integrity."
      ],
      "metadata": {
        "id": "os39RNf9V3Kb"
      }
    },
    {
      "cell_type": "markdown",
      "source": [
        "#8.What is a hash table, and how does it relate to dictionaries in Python?\n",
        "A hash table is a data structure that uses hash function to generate an index value for each data element. This index value acts as a key fot the data value.\n",
        "In Python dictionaries are implemented using hash tables."
      ],
      "metadata": {
        "id": "Z-F__NKdmE-t"
      }
    },
    {
      "cell_type": "markdown",
      "source": [
        "#9. Can lists contain different data types in Python?\n",
        "Yes. Lists contain heterogenous data types . The elements can be integers , floats , complex numbers , strings , lists etc."
      ],
      "metadata": {
        "id": "RDMT42A-sipk"
      }
    },
    {
      "cell_type": "markdown",
      "source": [
        "#10. Explain why strings are immutable in Python?\n",
        "srings once created are stored in a particular memory location. It can not be edited , replacement of strings can be done."
      ],
      "metadata": {
        "id": "jJnyQc6zs8nI"
      }
    },
    {
      "cell_type": "markdown",
      "source": [
        "#11.What advantages do dictionaries offer over lists for certain tasks?\n",
        " It is more efficient to use dictionaries for the searching of elements as it can be carried out in a much faster manner.In dictionary Datas are stored in key value pairs. Values can be easily accessed with the help of keys.\n",
        "Lists are used when it is important to maintain the order of the elements and dealing with data that may get changed in the future.\n"
      ],
      "metadata": {
        "id": "QWIwrZ6NOITi"
      }
    },
    {
      "cell_type": "code",
      "source": [],
      "metadata": {
        "id": "jmdp5E5NqwX_"
      },
      "execution_count": null,
      "outputs": []
    },
    {
      "cell_type": "markdown",
      "source": [
        "#12.Describe a scenario where using a tuple would be preferable over a list\n",
        "using tuple will be preferable over a list when the elements should be uneditable that means elements should not be changed after creating once. For example Aadhar card no of a specific person is unique. It can not be changed. so for creating a person's document list where the elements are aadhar card , voter card , passport no , Bank account no , PAN card Tuple will be preferable over list."
      ],
      "metadata": {
        "id": "Qhbs8p49PLQF"
      }
    },
    {
      "cell_type": "markdown",
      "source": [
        "#13. How do sets handle duplicate values in Python?\n",
        "As sets deal with unique value , if there is any duplicate value given by the user , set will take only one value ."
      ],
      "metadata": {
        "id": "N3xEGZzRrYF9"
      }
    },
    {
      "cell_type": "markdown",
      "source": [
        "#14.  How does the “in” keyword work differently for lists and dictionaries?\n",
        "In case of list 'in' keyword is used to check whether any specific element is a member of that particular list or not but in case of dictionary cheking for the membership of any element can not be done by using  'in' keyword"
      ],
      "metadata": {
        "id": "mbVNgjHEryms"
      }
    },
    {
      "cell_type": "markdown",
      "source": [
        "#15. Can you modify the elements of a tuple? Explain why or why not?\n",
        "The elememts of a tuple can not be modified as tuples are immutable."
      ],
      "metadata": {
        "id": "10mZvBrKxggM"
      }
    },
    {
      "cell_type": "markdown",
      "source": [
        "#16.What is a nested dictionary, and give an example of its use case?\n",
        "Distionaries can contain other dictionaries as values forming nested dictionary structure.\n",
        "If we think of our crockery cabinet and create a dictionary of keys like things made up of glass , things made up of ceramics , things made up of plastics . Under each key there will be keys like whether it ia a cup or plate or glass and the value will be how many cup plate or glaases are there .\n",
        "crok_cab = {'glass':{ 'cup': 4 , 'plate':6} , 'ceramics' :{'cup':6 , 'plate' :6} , 'plastic' : { 'cup' : 8 , 'plate' : 8}}"
      ],
      "metadata": {
        "id": "hl3zwNpfyN6i"
      }
    },
    {
      "cell_type": "markdown",
      "source": [
        "#17. Describe the time complexity of accessing elements in a dictionary\n",
        "Accessing element in a dictionary is easy compared to other data structures. Accessing can be done with the help of keys and  retrieval of data will take less time ."
      ],
      "metadata": {
        "id": "NRPIE-nxlOuE"
      }
    },
    {
      "cell_type": "markdown",
      "source": [
        "#18. In what situations are lists preferred over dictionaries?\n",
        " Lists are preferred when we need an ordered collection of items and will frequently access them by their position.\n",
        " Dictionary are preferred when we need to map unique keys to values for fast access and when the relationship between keys and values is important."
      ],
      "metadata": {
        "id": "G6XhCFE4mvqB"
      }
    },
    {
      "cell_type": "markdown",
      "source": [
        "#19.Why are dictionaries considered unordered, and how does that affect data retrieval ?\n",
        "Dictionaries are unordered as they do no maintain any order of the items and data can not be retrieved by the index number or the position of the data . It can only be retrieved with the help of keys ."
      ],
      "metadata": {
        "id": "UBlpiRmHoWIr"
      }
    },
    {
      "cell_type": "markdown",
      "source": [
        "#20.  Explain the difference between a list and a dictionary in terms of data retrieval.\n",
        "In lists data can be retrieved by the index or position of the data in the list . But in Dictionary data is retrieved by the keys ."
      ],
      "metadata": {
        "id": "dfP8BqUdpBPg"
      }
    }
  ]
}